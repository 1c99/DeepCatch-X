{
 "cells": [
  {
   "cell_type": "code",
   "execution_count": 1,
   "id": "ea7d3cb1-78a9-452c-bd5c-78a74620c00b",
   "metadata": {},
   "outputs": [],
   "source": [
    "import os\n",
    "os.environ[\"KMP_DUPLICATE_LIB_OK\"]=\"TRUE\""
   ]
  },
  {
   "cell_type": "code",
   "execution_count": 2,
   "id": "818db196-dae4-4f98-9d51-c659fedd8f54",
   "metadata": {},
   "outputs": [
    {
     "name": "stdout",
     "output_type": "stream",
     "text": [
      "(2048, 2048)\n",
      "before hist min max -1024.0 -689.0\n",
      "A_ shape (2048, 2048)\n",
      "mean, std -999.7909 55.466774\n",
      "normalized image min max 0.12666667 0.685\n",
      "normalized_a shape torch.Size([1, 1, 2048, 2048])\n",
      "pix2pixHD BaseModel initialize ./checkpoints/lung2vessel.pth\n",
      "are you running ?\n",
      "output saved.\n"
     ]
    }
   ],
   "source": [
    "!python inference_vessel.py"
   ]
  },
  {
   "cell_type": "code",
   "execution_count": null,
   "id": "6483d665-0eae-42ec-a240-9712b51af907",
   "metadata": {},
   "outputs": [],
   "source": []
  }
 ],
 "metadata": {
  "kernelspec": {
   "display_name": "Python 3 (ipykernel)",
   "language": "python",
   "name": "python3"
  },
  "language_info": {
   "codemirror_mode": {
    "name": "ipython",
    "version": 3
   },
   "file_extension": ".py",
   "mimetype": "text/x-python",
   "name": "python",
   "nbconvert_exporter": "python",
   "pygments_lexer": "ipython3",
   "version": "3.8.5"
  }
 },
 "nbformat": 4,
 "nbformat_minor": 5
}
