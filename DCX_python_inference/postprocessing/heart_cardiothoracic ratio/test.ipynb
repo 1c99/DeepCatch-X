{
 "cells": [
  {
   "cell_type": "code",
   "execution_count": 1,
   "id": "203eb6d3-3965-4240-ba11-4c3cc133f0bf",
   "metadata": {},
   "outputs": [],
   "source": [
    "import matplotlib.pyplot as plt\n",
    "import numpy as np\n",
    "import nibabel as nib\n",
    "import cv2\n",
    "import os\n",
    "import pydicom"
   ]
  },
  {
   "cell_type": "code",
   "execution_count": 2,
   "id": "fbbee8a5-6d59-47fb-917f-1d12787baeff",
   "metadata": {},
   "outputs": [],
   "source": [
    "def printInfo(image, name=\"\"):\n",
    "    print(\"--------- {} ---------\".format(name))        \n",
    "    print(\"{} , {}\".format(type(image), image.dtype))\n",
    "    print(image.shape)\n",
    "    print(\"sum / min / max / mean / std\")\n",
    "    print(np.sum(image)) # 4194304\n",
    "    print(np.min(image)) # -1029\n",
    "    print(np.max(image)) # -878\n",
    "    print(np.mean(image)) # -1021.9964039325714\n",
    "    print(np.std(image)) # 13.835177613499017\n",
    "    if image.ndim == 2:\n",
    "        x, y = np.where(image)\n",
    "        print(np.sum(x))\n",
    "        print(np.sum(y))\n",
    "    print()"
   ]
  },
  {
   "cell_type": "code",
   "execution_count": 3,
   "id": "63a27bd0-6af0-4e2f-ba24-5071a92f8d11",
   "metadata": {},
   "outputs": [],
   "source": [
    "# input : nifti file path\n",
    "def find_contours(nii_path):\n",
    "    \n",
    "    print(nii_path)\n",
    "    #exit(0)\n",
    "    \n",
    "    # 1) array from input nifti image\n",
    "    img = nib.load(nii_path).get_fdata()\n",
    "    #print(type(img))\n",
    "    #print(img.shape) # (2048, 2048, 1, 1)\n",
    "    img = img.reshape(img.shape[0], img.shape[1])\n",
    "    #print(type(img)) # numpy.memmap\n",
    "    #print(img.shape) # (2048, 2048)\n",
    "    #printInfo(img, \"img - find_contours()\")\n",
    "    #exit(0)\n",
    "    img = np.array(np.transpose(img)).astype(np.uint8)\n",
    "    #img = img.astype(np.uint8)\n",
    "    #printInfo(img, \"transpose\")\n",
    "    #exit(0)\n",
    "    cv2.imwrite(nii_path[:-4]+'.png', img) # 17066541_20150307_fake_0.png\n",
    "    #exit(0)\n",
    "    #img_color = cv2.imread(path[:-4]+'.png')\n",
    "    img_color = cv2.imread(nii_path[:-4]+ '.png')\n",
    "    #print(type(img_color)) # numpy.ndarray\n",
    "    #print(img_color.shape) # (2048, 2048, 3)    \n",
    "    #exit(0)\n",
    "    \n",
    "    # 2) generate binary mask image \n",
    "    mask = np.where(img > 0,1,0).astype(np.uint8) # 0 or 1 : binary\n",
    "    #printInfo(mask, \"mask - find_contours()\")\n",
    "    #exit(0)\n",
    "    cv2.imwrite(nii_path[:-4]+'_mask(binary)'+'.png', mask*255) # 17066541_20150307_fake_0_binary.png\n",
    "    #exit(0)\n",
    "        \n",
    "    # 3) find contours from binary mask - using opencv2 findContours\n",
    "    contours, hierarchy = cv2.findContours(mask, cv2.RETR_EXTERNAL, cv2.CHAIN_APPROX_NONE)\n",
    "    #print(type(contours)) # <class 'tuple'>\n",
    "    #print(len(contours)) # 2\n",
    "    #print(type(contours[0])) # <class 'numpy.ndarray'>\n",
    "    #exit(0)\n",
    "    \n",
    "    maskTemp = mask\n",
    "    #maskTemp = mask * 0 # \n",
    "    cv2.drawContours(maskTemp, contours, -1, 255)\n",
    "    cv2.imwrite(nii_path[:-4]+'_contour'+'.png', maskTemp)\n",
    "    #printInfo(maskTemp, \"maskTemp\")\n",
    "    #exit(0)\n",
    "    \n",
    "    \n",
    "    # 4) sorted contours by length and select top2 \n",
    "    num = len(contours)\n",
    "    con = []\n",
    "    for i in range(num):\n",
    "        con.append(len(contours[i])) # contours[i] is set of contour pixel\n",
    "    top2 = sorted(con, reverse=True)[:2]\n",
    "    #print(top2) # [4639, 4472]\n",
    "    \n",
    "    lung_contours = []\n",
    "    for i in range(num):\n",
    "        if con[i] in top2:\n",
    "            lung_contours.append(contours[i])\n",
    "   \n",
    "    #print(type(lung_contours)) # <class 'list'>\n",
    "    #print(lung_contours) # [array(), array()] = [con[0], con[1]]\n",
    "    #exit(0)\n",
    "\n",
    "    return img_color, lung_contours\n",
    "    # output : image, selected contours"
   ]
  },
  {
   "cell_type": "code",
   "execution_count": 4,
   "id": "d220ca51-0c5c-4e79-99b0-a741aebc00e6",
   "metadata": {},
   "outputs": [],
   "source": [
    "# input : contours top2\n",
    "def center_point(lung_contours):\n",
    "\n",
    "    # define start/end(=min/max) point at y\n",
    "    contour_x_st = sorted(lung_contours[0], key=lambda x: x[0][0])[0]\n",
    "    contour_x_st2 = sorted(lung_contours[1], key=lambda x: x[0][0])[0]\n",
    "    \n",
    "    contour_x_ed = sorted(lung_contours[0], key=lambda x: x[0][0])[-1]\n",
    "    contour_x_ed2 = sorted(lung_contours[1], key=lambda x: x[0][0])[-1]\n",
    "    \n",
    "    contour_y_st = sorted(lung_contours[0], key=lambda x: x[0][1])[0]\n",
    "    contour_y_st2 = sorted(lung_contours[1], key=lambda x: x[0][1])[0]\n",
    "    \n",
    "    contour_y_ed = sorted(lung_contours[0], key=lambda x: x[0][1])[-1]\n",
    "    contour_y_ed2 = sorted(lung_contours[1], key=lambda x: x[0][1])[-1]\n",
    "    \n",
    "    center_x = (min(contour_x_st[0][0],contour_x_st2[0][0]) + max(contour_x_ed[0][0],contour_x_ed2[0][0]))//2\n",
    "    center_y = (min(contour_y_st[0][1],contour_y_st2[0][1]) + max(contour_y_ed[0][1],contour_y_ed2[0][1]))//2\n",
    "    \n",
    "    # center x = (min(contour1 min x, contour2 min x) + max(contour1 max x, contour2 max x))//2\n",
    "    # center y = (min(contour1 min y, contour2 min y) + max(contour1 max y, contour2 max y))//2\n",
    "    \n",
    "    #print(\"{} , {}\".format(center_x, center_y)) # 1074 , 914\n",
    "    #exit(0)\n",
    "        \n",
    "    \n",
    "    return [center_x, center_y]\n",
    "    # output : center point [x,y]"
   ]
  },
  {
   "cell_type": "code",
   "execution_count": 5,
   "id": "19152efe-d027-4fa9-802f-56b53e9d33e3",
   "metadata": {},
   "outputs": [],
   "source": [
    "def center_point_one(lung_contours):\n",
    "    \n",
    "    # define start/end(=min/max) point at y\n",
    "    contour_x_st = sorted(lung_contours[0], key=lambda x: x[0][0])[0]    \n",
    "    contour_x_ed = sorted(lung_contours[0], key=lambda x: x[0][0])[-1]\n",
    "    \n",
    "    contour_y_st = sorted(lung_contours[0], key=lambda x: x[0][1])[0]    \n",
    "    contour_y_ed = sorted(lung_contours[0], key=lambda x: x[0][1])[-1]\n",
    "    \n",
    "    center_x = (contour_x_st[0][0] + contour_x_ed[0][0])//2\n",
    "    center_y = (contour_y_st[0][1] + contour_y_ed[0][1])//2\n",
    "    \n",
    "    # center x = (contour min x + contour max x)//2\n",
    "    # center y = (contour min y + contour max y)//2\n",
    "    \n",
    "  \n",
    "    return [center_x, center_y]\n",
    "    # output : center point [x,y]"
   ]
  },
  {
   "cell_type": "code",
   "execution_count": 6,
   "id": "d61db4a1-bb43-45b4-8a96-b920e02ad1f7",
   "metadata": {},
   "outputs": [],
   "source": [
    "# input : center point, contours\n",
    "def full_mask(center, lung_contours):\n",
    "    \n",
    "    # 0) load center point\n",
    "    center_x, center_y = center\n",
    "    contour1 = []\n",
    "    contour2 = []\n",
    "    \n",
    "    #print(\"{} , {} - full_mask()\".format(center_x, center_y))\n",
    "    #exit(0)\n",
    "    \n",
    "    #print(\"len(lung_contours): {}\".format(len(lung_contours))) # len(lung_contours): 2\n",
    "    #exit(0)    \n",
    "    if len(lung_contours) == 2:\n",
    "        # 1) concatenate if 2 contours\n",
    "        lung_contours = np.concatenate((lung_contours[0], lung_contours[1]), axis=0)\n",
    "\n",
    "    #print(\"lung_contours length: {}\".format(len(lung_contours))) # lung_contours length: 9111\n",
    "    #exit(0)\n",
    "    \n",
    "\n",
    "    # 2) split and save 2 contours by center point x value\n",
    "    for i in lung_contours:\n",
    "        if i[0][0] > center_x:\n",
    "            contour1.append(i[0])\n",
    "        else:\n",
    "            contour2.append(i[0])\n",
    "    contour1 = np.array(contour1)\n",
    "    contour2 = np.array(contour2)\n",
    "    \n",
    "    print(len(contour1)) # 4472\n",
    "    print(len(contour2)) # 4639\n",
    "    #exit(0)\n",
    "    \n",
    "    # define start/end(=min/max) point at y\n",
    "    contour_y_st = sorted(contour1, key=lambda x: x[1])[0]\n",
    "    contour_y_st2 = sorted(contour2, key=lambda x: x[1])[0]\n",
    "    contour_y_ed = sorted(contour1, key=lambda x: x[1])[-1]\n",
    "    contour_y_ed2 = sorted(contour2, key=lambda x: x[1])[-1]\n",
    "    \n",
    "    #print(\"{} , {} / {} , {}\".format(contour_y_st, contour_y_ed, contour_y_st2, contour_y_ed2))\n",
    "    # [1318  235] , [1619 1593] / [898 247] , [ 594 1571]\n",
    "    #exit(0)\n",
    "   \n",
    "    # 3) fill trapezoid binary mask (airway area) - using opencv FillPoly\n",
    "    a,b,c = img.shape[0], img.shape[1], img.shape[2]\n",
    "    print(img.shape) # (2048, 2048, 3)\n",
    "    #exit(0)\n",
    "    mask = np.zeros((a, b, c), dtype=\"uint8\")\n",
    "    print(mask.shape) # (2048, 2048, 3)\n",
    "    #exit(0)\n",
    "    \n",
    "    points = np.array([contour_y_st, contour_y_st2, contour_y_ed2, contour_y_ed])\n",
    "    cv2.fillPoly(mask, pts=[points], color=(255,255,255)) \n",
    "    #printInfo(mask, \"polygon fill\");\n",
    "    #exit(0) \n",
    "\n",
    "    # 4) fill contour binary mask - using opencv FillPoly\n",
    "    cv2.fillPoly(mask, pts =[lung_contours], color=(255,255,255))\n",
    "    #printInfo(mask, \"lung_contours fill\");\n",
    "    #exit(0)\n",
    "    \n",
    "    return mask\n",
    "    # output : filled mask"
   ]
  },
  {
   "cell_type": "code",
   "execution_count": 7,
   "id": "4f19376c-1abe-479d-bcf7-ee0ad0905228",
   "metadata": {},
   "outputs": [],
   "source": [
    "# input : image, filled mask, center point, percentage\n",
    "def bitwise_mask(img, mask, center_point, percent):\n",
    "    \n",
    "    # 1) save contour of filled mask - using opencv findContours\n",
    "    mask_contour, hierarchy = cv2.findContours(mask[:,:,0], cv2.RETR_EXTERNAL, cv2.CHAIN_APPROX_NONE)\n",
    "    \n",
    "    # 2) for mask contour points do : \n",
    "    #        new points : int( (1-percent)*center point + percent*mask contour points )\n",
    "    mask_points = mask_contour[0]\n",
    "    print(len(mask_points)) # 4802\n",
    "    #exit(0)\n",
    "    \n",
    "    new_points = []\n",
    "    for i in range(len(mask_points)):\n",
    "        x = center_point\n",
    "        y = mask_points[i][0]\n",
    "        m = percent\n",
    "        n = 1-percent\n",
    "        new_points.append([int((n*a+m*b)) for a,b in zip(x,y)])    \n",
    "    \n",
    "    print(len(new_points)) # 4802\n",
    "    #exit(0)\n",
    "    \n",
    "    # 3) filled percent mask - using opencv FillPoly\n",
    "    a,b,c = img.shape[0], img.shape[1], img.shape[2]\n",
    "    mask = np.zeros((a,b,c), dtype='uint8')\n",
    "    \n",
    "    new_points = np.array(new_points)\n",
    "    mask = cv2.fillPoly(mask, [new_points], (255,255,255))\n",
    "    #printInfo(mask[:,:,0], \"mask[:,:,0]\")\n",
    "    #exit(0)\n",
    "    \n",
    "    # 4) copy image and generate percent masked image - using opencv bitwise_and\n",
    "    masked = cv2.bitwise_and(img, mask)\n",
    "    #printInfo(masked[:,:,0], \"masked[:,:,0]\")\n",
    "    #exit(0)\n",
    "    \n",
    "    return mask, masked\n",
    "    # output : percent mask, percent masked image (lung or vascular)"
   ]
  },
  {
   "cell_type": "code",
   "execution_count": 8,
   "id": "3c0fa7d9-70da-4c7a-a5f4-750064b0cc55",
   "metadata": {},
   "outputs": [],
   "source": [
    "# input :  image path and percent masked image, save path and string percentage \n",
    "def save_mask(path, mask, save_path, idx):\n",
    "    \n",
    "    # 1) load nifti image, header, affine\n",
    "    nii = nib.load(path)\n",
    "    header = nii.header\n",
    "    affine = nii.affine\n",
    "    \n",
    "    # 2) generate percent masked image to nifti image (applied header, affine) \n",
    "    new_nii = nib.Nifti1Image(np.transpose(mask), affine, header)\n",
    "    \n",
    "    # 3) save nifti image at save path\n",
    "    file_name = os.path.basename(path)[:-4] + '_' + str(idx) + '.nii'\n",
    "    nib.save(new_nii, save_path +'/'+ file_name)"
   ]
  },
  {
   "cell_type": "code",
   "execution_count": 9,
   "id": "8b0c45d4-4190-423f-b9a6-72cfbc217073",
   "metadata": {},
   "outputs": [],
   "source": [
    "def get_longest_line(image, image_width, image_height):\n",
    "    result_ = []\n",
    "\n",
    "    try:\n",
    "        # Convert to binary image based on threshold\n",
    "        binary = np.where(image > -1024, 1, 0)\n",
    "\n",
    "        # Check if the binary image is all 0 or all 1\n",
    "        if np.all(binary == 0) or np.all(binary == 1):\n",
    "            return [[0, 0], [0, 0]]\n",
    "\n",
    "        # Find the biggest connected region using connected components\n",
    "        _, labels = cv2.connectedComponents(binary.astype(np.uint8))\n",
    "\n",
    "        # Find the biggest region (excluding background, which is label 0)\n",
    "        unique, counts = np.unique(labels, return_counts=True)\n",
    "        region_label = unique[np.argmax(counts[1:]) + 1]  # excluding the background label 0\n",
    "        region = (labels == region_label).astype(np.uint8)\n",
    "\n",
    "        maxCount = 0\n",
    "        maxY = -1\n",
    "        counts = []\n",
    "\n",
    "        # Find the row with the most non-zero values\n",
    "        for y in range(region.shape[0]):\n",
    "            count = np.count_nonzero(region[y, :])\n",
    "            counts.append(count)\n",
    "            if count > maxCount:\n",
    "                maxCount = count\n",
    "                maxY = y\n",
    "\n",
    "        if maxY == -1:  # Exception case\n",
    "            return [[0, 0], [0, 0]]\n",
    "\n",
    "        startX = -1\n",
    "        endX = -1\n",
    "\n",
    "        # Find the start and end points in the row with the most non-zero pixels\n",
    "        for x in range(region.shape[1]):\n",
    "            if region[maxY, x] == 1:  # 255 for foreground in original code\n",
    "                if startX == -1:\n",
    "                    startX = x\n",
    "                endX = x\n",
    "\n",
    "        if startX == -1 or endX == -1:  # Exception case\n",
    "            return [[0, 0], [0, 0]]\n",
    "\n",
    "        # Return the longest line as the start and end points\n",
    "        longest_line = [[startX, maxY], [endX, maxY]]\n",
    "        result_ = longest_line\n",
    "\n",
    "    except Exception as e:\n",
    "        # Handle any errors and return a default value\n",
    "        return [[0, 0], [0, 0]]\n",
    "\n",
    "    return result_\n"
   ]
  },
  {
   "cell_type": "code",
   "execution_count": 10,
   "id": "d0c3a677-0513-44f6-8c56-0ffe79b45819",
   "metadata": {},
   "outputs": [],
   "source": [
    "input_path = \"input/dcm/1_Random number_129.dcm\"\n",
    "heart_path = \"input/heart/1_Random number_129.DCM_heart.png.nii\"\n",
    "lung_path = \"input/lung/1_Random number_129.DCM_lung.png.nii\"\n",
    "output_path = \"./output\""
   ]
  },
  {
   "cell_type": "code",
   "execution_count": 11,
   "id": "18886c08-98f7-47b0-91a7-42dc9bae1a61",
   "metadata": {},
   "outputs": [],
   "source": [
    "data = pydicom.dcmread(input_path)\n",
    "pixel_spacing = data.PixelSpacing if 'PixelSpacing' in data else None\n",
    "height = data.Rows\n",
    "width = data.Columns"
   ]
  },
  {
   "cell_type": "code",
   "execution_count": 150,
   "id": "f3c560b5-2af9-4b38-a360-4004eb090213",
   "metadata": {
    "scrolled": true
   },
   "outputs": [
    {
     "name": "stdout",
     "output_type": "stream",
     "text": [
      "D:/20240517_lung_heart_volume_sample/lung/1_Random number_129.DCM_lung.png.nii\n"
     ]
    }
   ],
   "source": [
    "lung_contour = []\n",
    "img, lung_contours = find_contours(lung_path)"
   ]
  },
  {
   "cell_type": "code",
   "execution_count": 151,
   "id": "2b5540e0-cdd7-4258-9b6d-1923156f1882",
   "metadata": {},
   "outputs": [],
   "source": [
    "for c in lung_contours:\n",
    "    if len(c) > 1000:   # constant\n",
    "         lung_contour.append(c)"
   ]
  },
  {
   "cell_type": "code",
   "execution_count": 152,
   "id": "de3a4e3d-c51d-4fd3-8153-2b89e26f863e",
   "metadata": {},
   "outputs": [
    {
     "name": "stdout",
     "output_type": "stream",
     "text": [
      "4286\n",
      "4382\n",
      "(2048, 2048, 3)\n",
      "(2048, 2048, 3)\n"
     ]
    }
   ],
   "source": [
    "if len(lung_contour) == 1:\n",
    "    center = center_point_one(lung_contour)\n",
    "    masks = full_mask(center, lung_contour)\n",
    "else:\n",
    "    center = center_point(lung_contour)\n",
    "    masks = full_mask(center, lung_contour)"
   ]
  },
  {
   "cell_type": "code",
   "execution_count": 153,
   "id": "15ecdb74-ea18-41c9-b6c6-6aad5fd6b3a0",
   "metadata": {},
   "outputs": [
    {
     "name": "stdout",
     "output_type": "stream",
     "text": [
      "5681\n",
      "5681\n",
      "--------- mask[:,:,0] ---------\n",
      "<class 'numpy.ndarray'> , uint8\n",
      "(2048, 2048)\n",
      "sum / min / max / mean / std\n",
      "353442495\n",
      "0\n",
      "255\n",
      "84.26725745201111\n",
      "119.94657132148123\n",
      "1142314294\n",
      "1345466266\n",
      "\n",
      "--------- masked[:,:,0] ---------\n",
      "<class 'numpy.ndarray'> , uint8\n",
      "(2048, 2048)\n",
      "sum / min / max / mean / std\n",
      "78561936\n",
      "0\n",
      "255\n",
      "18.73062515258789\n",
      "39.48849678195026\n",
      "893996220\n",
      "1057418107\n",
      "\n"
     ]
    }
   ],
   "source": [
    "mask, masked = bitwise_mask(img, masks, center, 1.0)\n",
    "#save_mask(lung_path, mask[:,:,0], output_path, 1.0)"
   ]
  },
  {
   "cell_type": "code",
   "execution_count": 154,
   "id": "de2749ad-d44e-4949-887b-01aec6991070",
   "metadata": {},
   "outputs": [],
   "source": [
    "mask = mask[:,:,0]\n",
    "maxCount = 0\n",
    "maxY = -1\n",
    "counts = []\n",
    "\n",
    "for y in range(mask.shape[0]):\n",
    "    count = cv2.countNonZero(mask[y, :])\n",
    "    counts.append(count)\n",
    "    if count > maxCount:\n",
    "        maxCount = count\n",
    "        maxY = y\n",
    "\n",
    "# startX와 endX 찾기\n",
    "startX = -1\n",
    "endX = -1\n",
    "\n",
    "for x in range(mask.shape[1]):\n",
    "    if mask[maxY, x] == 255:\n",
    "        if startX == -1:\n",
    "            startX = x\n",
    "        endX = x\n",
    "\n",
    "\n",
    "IDCord = [(startX, maxY), (endX, maxY)]\n",
    "IDLen = (endX - startX) * pixel_spacing[0] / 10.0\n",
    "center = startX + ((endX - startX) / 2)"
   ]
  },
  {
   "cell_type": "code",
   "execution_count": 155,
   "id": "cf76190f-cec7-49f0-b5f9-bec6bb15b02b",
   "metadata": {},
   "outputs": [
    {
     "name": "stdout",
     "output_type": "stream",
     "text": [
      "IDCord :  [(262, 998), (1635, 998)]\n",
      "IDLen :  19.0847\n",
      "center :  948\n"
     ]
    }
   ],
   "source": [
    "print(\"IDCord : \", IDCord)\n",
    "print(\"IDLen : \", IDLen)\n",
    "print(\"center : \", int(center))"
   ]
  },
  {
   "cell_type": "code",
   "execution_count": 156,
   "id": "f3ce95b4-100f-43b4-a1e2-d25580343ee5",
   "metadata": {},
   "outputs": [],
   "source": [
    "MHTD = (endX - startX) * pixel_spacing[0]"
   ]
  },
  {
   "cell_type": "code",
   "execution_count": 157,
   "id": "5d05f02d-39f6-45f1-ab78-7280db0867be",
   "metadata": {},
   "outputs": [],
   "source": [
    "heart_img = nib.load(heart_path)\n",
    "heart_data = heart_img.get_fdata()\n",
    "heart_data = np.squeeze(heart_data)\n",
    "heart_data = np.transpose(heart_data, (1, 0))\n",
    "heart_data = np.repeat(heart_data, 4, axis=0)\n",
    "heart_data = np.repeat(heart_data, 4, axis=1)"
   ]
  },
  {
   "cell_type": "code",
   "execution_count": 158,
   "id": "7f1ec658-f266-41dc-a8f7-735f03758428",
   "metadata": {},
   "outputs": [],
   "source": [
    "left_heart = heart_data[:, :int(center)]\n",
    "right_heart = heart_data[:, int(center):]"
   ]
  },
  {
   "cell_type": "code",
   "execution_count": 159,
   "id": "bb63a5c9-82d0-43a2-a049-da797fa1dd96",
   "metadata": {},
   "outputs": [
    {
     "data": {
      "image/png": "[encoded data removed]",
      "text/plain": [
       "<Figure size 640x480 with 1 Axes>"
      ]
     },
     "metadata": {},
     "output_type": "display_data"
    },
    {
     "data": {
      "image/png": "[encoded data removed]",
      "text/plain": [
       "<Figure size 640x480 with 1 Axes>"
      ]
     },
     "metadata": {},
     "output_type": "display_data"
    }
   ],
   "source": [
    "plt.imshow(left_heart, cmap='gray')\n",
    "plt.show()\n",
    "plt.imshow(right_heart, cmap='gray')\n",
    "plt.show()"
   ]
  },
  {
   "cell_type": "code",
   "execution_count": 160,
   "id": "100992a4-e710-4dbb-8cba-6525bc6714c5",
   "metadata": {},
   "outputs": [
    {
     "name": "stdout",
     "output_type": "stream",
     "text": [
      "[[604, 1048], [947, 1048]]\n",
      "[[0, 1096], [355, 1096]]\n"
     ]
    }
   ],
   "source": [
    "left_longest_line = get_longest_line(left_heart, center, 2048)\n",
    "right_longest_line = get_longest_line(right_heart, 2048-center, 2048)\n",
    "print(left_longest_line)\n",
    "print(right_longest_line)"
   ]
  },
  {
   "cell_type": "code",
   "execution_count": 161,
   "id": "aace1ea8-210d-47c4-9b2b-32afd8ecef88",
   "metadata": {},
   "outputs": [
    {
     "name": "stdout",
     "output_type": "stream",
     "text": [
      "Left Heart Length: 343\n",
      "Right Heart Length: 355\n",
      "MHCD: 698\n",
      "MHTD * spacing: 39.22166773632813\n",
      "MHCD * spacing: 143.44854296875002\n",
      "CT Ratio: 3.6573799954937725\n"
     ]
    },
    {
     "data": {
      "image/png": "[encoded data removed]",
      "text/plain": [
       "<Figure size 640x480 with 1 Axes>"
      ]
     },
     "metadata": {},
     "output_type": "display_data"
    }
   ],
   "source": [
    "left_length = left_longest_line[1][0] - left_longest_line[0][0]\n",
    "right_length = right_longest_line[1][0] - right_longest_line[0][0]\n",
    "\n",
    "print('Left Heart Length:', left_length)\n",
    "print('Right Heart Length:', right_length)\n",
    "\n",
    "MHCD = left_length + right_length\n",
    "print('MHCD:', MHCD)\n",
    "\n",
    "newSize = 2048\n",
    "newSpacingX = pixel_spacing[0] * max(width, height) / newSize\n",
    "newSpacingY = pixel_spacing[1] * max(width, height) / newSize\n",
    "ct_ratio = (MHCD * newSpacingX) / (MHTD * newSpacingX)\n",
    "print('MHTD * spacing:', MHTD * newSpacingX)\n",
    "print('MHCD * spacing:', MHCD * newSpacingX)\n",
    "\n",
    "print('CT Ratio:', ct_ratio)\n",
    "\n",
    "plt.imshow(heart_data, cmap='gray')\n",
    "plt.plot([center, center], [0, 2047], 'r-', label='Center')\n",
    "plt.plot([left_longest_line[0][0], left_longest_line[1][0]], \n",
    "         [left_longest_line[0][1], left_longest_line[1][1]], \n",
    "         'g-', label='A1')\n",
    "plt.plot([right_longest_line[0][0] + center, right_longest_line[1][0] + center],\n",
    "            [right_longest_line[0][1], right_longest_line[1][1]], \n",
    "            'b-', label='A2')\n",
    "\n",
    "plt.legend()\n",
    "plt.show()"
   ]
  },
  {
   "cell_type": "code",
   "execution_count": null,
   "id": "2504e8a0-1605-4bfd-9f9e-ad5561c8a35e",
   "metadata": {},
   "outputs": [],
   "source": []
  },
  {
   "cell_type": "code",
   "execution_count": null,
   "id": "4fd33715-7ba6-4c67-a1ef-90aa2408cd88",
   "metadata": {},
   "outputs": [],
   "source": []
  },
  {
   "cell_type": "code",
   "execution_count": null,
   "id": "bfb92f35-d6a0-4fa9-b64c-baf89be1cda8",
   "metadata": {},
   "outputs": [],
   "source": []
  },
  {
   "cell_type": "code",
   "execution_count": null,
   "id": "1be555f5-b3dc-43b8-9ec9-a613eae96000",
   "metadata": {},
   "outputs": [],
   "source": []
  },
  {
   "cell_type": "code",
   "execution_count": null,
   "id": "228ba58f-2c94-4a00-b551-c9200e4d614d",
   "metadata": {},
   "outputs": [],
   "source": []
  },
  {
   "cell_type": "code",
   "execution_count": null,
   "id": "da7e9164-1255-4d8d-80c4-f78202014a83",
   "metadata": {},
   "outputs": [],
   "source": []
  },
  {
   "cell_type": "code",
   "execution_count": null,
   "id": "c78b4692-f301-4d66-be6a-70ec4cda3310",
   "metadata": {},
   "outputs": [],
   "source": []
  },
  {
   "cell_type": "code",
   "execution_count": null,
   "id": "12f86587-fa52-4a8a-a3d7-3ab16ca7b9eb",
   "metadata": {},
   "outputs": [],
   "source": []
  }
 ],
 "metadata": {
  "kernelspec": {
   "display_name": "Python 3 (ipykernel)",
   "language": "python",
   "name": "python3"
  },
  "language_info": {
   "codemirror_mode": {
    "name": "ipython",
    "version": 3
   },
   "file_extension": ".py",
   "mimetype": "text/x-python",
   "name": "python",
   "nbconvert_exporter": "python",
   "pygments_lexer": "ipython3",
   "version": "3.8.5"
  }
 },
 "nbformat": 4,
 "nbformat_minor": 5
}
