{
 "cells": [
  {
   "cell_type": "code",
   "execution_count": 4,
   "id": "88e833cf-9335-408d-86db-d0ca31e61b81",
   "metadata": {},
   "outputs": [
    {
     "name": "stdout",
     "output_type": "stream",
     "text": [
      "pix2pixHD BaseModel initialize ./checkpoints/xray2bone.pth\n",
      "are you running ?\n",
      "area sum 4194304\n",
      "area 1378.488384\n",
      "output saved.\n"
     ]
    }
   ],
   "source": [
    "!python inference_bone.py"
   ]
  },
  {
   "cell_type": "code",
   "execution_count": null,
   "id": "112c71ad-7ad2-48bb-9da3-252a8adf8f13",
   "metadata": {},
   "outputs": [],
   "source": []
  }
 ],
 "metadata": {
  "kernelspec": {
   "display_name": "Python 3 (ipykernel)",
   "language": "python",
   "name": "python3"
  },
  "language_info": {
   "codemirror_mode": {
    "name": "ipython",
    "version": 3
   },
   "file_extension": ".py",
   "mimetype": "text/x-python",
   "name": "python",
   "nbconvert_exporter": "python",
   "pygments_lexer": "ipython3",
   "version": "3.8.5"
  }
 },
 "nbformat": 4,
 "nbformat_minor": 5
}
