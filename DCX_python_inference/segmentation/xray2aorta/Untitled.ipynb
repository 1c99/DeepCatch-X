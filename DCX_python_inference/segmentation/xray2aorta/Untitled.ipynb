{
 "cells": [
  {
   "cell_type": "code",
   "execution_count": 14,
   "id": "d395b1a9-c4fd-4c8b-8ffb-a9cc6a42a3eb",
   "metadata": {},
   "outputs": [
    {
     "name": "stdout",
     "output_type": "stream",
     "text": [
      "pix2pixHD BaseModel initialize ./checkpoints/xray2aorta.pth\n",
      "are you running ?\n",
      "area sum 8563\n",
      "area 45.028671387451176\n",
      "output saved.\n"
     ]
    }
   ],
   "source": [
    "!python inference_aorta.py"
   ]
  },
  {
   "cell_type": "code",
   "execution_count": null,
   "id": "cfc2cdf1-3087-4aed-8147-b522ca3e08c4",
   "metadata": {},
   "outputs": [],
   "source": []
  }
 ],
 "metadata": {
  "kernelspec": {
   "display_name": "Python 3 (ipykernel)",
   "language": "python",
   "name": "python3"
  },
  "language_info": {
   "codemirror_mode": {
    "name": "ipython",
    "version": 3
   },
   "file_extension": ".py",
   "mimetype": "text/x-python",
   "name": "python",
   "nbconvert_exporter": "python",
   "pygments_lexer": "ipython3",
   "version": "3.8.5"
  }
 },
 "nbformat": 4,
 "nbformat_minor": 5
}
