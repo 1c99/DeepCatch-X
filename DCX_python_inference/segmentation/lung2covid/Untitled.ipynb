{
 "cells": [
  {
   "cell_type": "code",
   "execution_count": 10,
   "id": "bb2f280b-27f7-4e75-b054-24bf8984f412",
   "metadata": {},
   "outputs": [
    {
     "name": "stdout",
     "output_type": "stream",
     "text": [
      "mean, std -1010.19995 21.203636\n",
      "pix2pixHD BaseModel initialize ./checkpoints/lung2covid.pth\n",
      "are you running ?\n",
      "area sum 0\n",
      "area 0.0\n",
      "output saved.\n"
     ]
    }
   ],
   "source": [
    "!python inference_covid.py"
   ]
  },
  {
   "cell_type": "code",
   "execution_count": null,
   "id": "76d2f6ac-e373-4040-908a-ab3f8fbc56e4",
   "metadata": {},
   "outputs": [],
   "source": []
  }
 ],
 "metadata": {
  "kernelspec": {
   "display_name": "Python 3 (ipykernel)",
   "language": "python",
   "name": "python3"
  },
  "language_info": {
   "codemirror_mode": {
    "name": "ipython",
    "version": 3
   },
   "file_extension": ".py",
   "mimetype": "text/x-python",
   "name": "python",
   "nbconvert_exporter": "python",
   "pygments_lexer": "ipython3",
   "version": "3.8.5"
  }
 },
 "nbformat": 4,
 "nbformat_minor": 5
}
