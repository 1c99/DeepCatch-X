{
 "cells": [
  {
   "cell_type": "code",
   "execution_count": 2,
   "id": "de695eff-46db-4fd4-b04a-7e6756dbcde3",
   "metadata": {},
   "outputs": [
    {
     "name": "stdout",
     "output_type": "stream",
     "text": [
      "GRU RUNNING: True\n",
      "DEVICE NAME: NVIDIA GeForce RTX 4070 | DEVICE_COUNT: 1\n",
      "NUMBER OF DATASET: 2\n",
      "\n",
      "1/2 | 50.00%torch.Size([1, 1, 512, 512])\n",
      "input shape :  torch.Size([1, 1, 512, 512])\n",
      "rescale_slope :  torch.float64\n",
      "dcm\n",
      "\n",
      "2/2 | 100.00%uint16\n",
      "(1, 512, 512)\n",
      "uint16\n",
      "max_val_A 4095.0\n",
      "min_val_A 0.0\n",
      "torch shape :  torch.Size([1, 512, 512])\n",
      "uint16\n",
      "(1, 512, 512)\n",
      "uint16\n",
      "max_val_A 4095.0\n",
      "min_val_A 0.0\n",
      "torch shape :  torch.Size([1, 512, 512])\n",
      "torch.Size([1, 1, 512, 512])\n",
      "input shape :  torch.Size([1, 1, 512, 512])\n",
      "rescale_slope :  torch.float64\n",
      "dcm\n",
      "\n",
      "PROCESS DONE\n"
     ]
    }
   ],
   "source": [
    "!python val.py"
   ]
  },
  {
   "cell_type": "code",
   "execution_count": null,
   "id": "d2569bb0-8402-4508-b20a-ecfdb542bcca",
   "metadata": {},
   "outputs": [],
   "source": []
  }
 ],
 "metadata": {
  "kernelspec": {
   "display_name": "Python 3 (ipykernel)",
   "language": "python",
   "name": "python3"
  },
  "language_info": {
   "codemirror_mode": {
    "name": "ipython",
    "version": 3
   },
   "file_extension": ".py",
   "mimetype": "text/x-python",
   "name": "python",
   "nbconvert_exporter": "python",
   "pygments_lexer": "ipython3",
   "version": "3.8.5"
  }
 },
 "nbformat": 4,
 "nbformat_minor": 5
}
