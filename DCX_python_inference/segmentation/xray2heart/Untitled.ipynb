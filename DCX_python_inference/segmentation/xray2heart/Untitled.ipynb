{
 "cells": [
  {
   "cell_type": "code",
   "execution_count": 6,
   "id": "af27048e-920a-4b59-8c35-05d181fbdc45",
   "metadata": {},
   "outputs": [
    {
     "name": "stdout",
     "output_type": "stream",
     "text": [
      "[0.14, 0.14]\n",
      "rows 2450\n",
      "cols 2652\n",
      "shape (2450, 2652)\n",
      "pixel_spaicng [0.14, 0.14]\n",
      "sex F\n",
      "age 50\n",
      "mean, std 2926.6226654052734 1137.8897868649613\n",
      "normalized image min max -0.2019272130358772 1.2019758946015011\n",
      "pix2pixHD BaseModel initialize ./checkpoints/xray2heart.pth\n",
      "are you running ?\n",
      "area :  101.56823401245117 cm2\n",
      "output saved.\n"
     ]
    }
   ],
   "source": [
    "!python inference_heart.py"
   ]
  },
  {
   "cell_type": "code",
   "execution_count": null,
   "id": "551561cf-2326-4fad-86ba-b38a45dacc8d",
   "metadata": {},
   "outputs": [],
   "source": []
  }
 ],
 "metadata": {
  "kernelspec": {
   "display_name": "Python 3 (ipykernel)",
   "language": "python",
   "name": "python3"
  },
  "language_info": {
   "codemirror_mode": {
    "name": "ipython",
    "version": 3
   },
   "file_extension": ".py",
   "mimetype": "text/x-python",
   "name": "python",
   "nbconvert_exporter": "python",
   "pygments_lexer": "ipython3",
   "version": "3.8.5"
  }
 },
 "nbformat": 4,
 "nbformat_minor": 5
}
