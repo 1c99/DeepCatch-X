{
 "cells": [
  {
   "cell_type": "code",
   "execution_count": 2,
   "id": "064edfa7-6407-4d07-85bc-55912433e8f9",
   "metadata": {},
   "outputs": [
    {
     "name": "stdout",
     "output_type": "stream",
     "text": [
      "./input\\JB0006_CXR_0base_201229.dcm\n",
      "Emphysema binary classification : 0.0%\n",
      "EMPHYSEMA PROB :  0.008989989873953164\n",
      "EMPHYSEMA : NEGATIVE\n",
      "2450\n",
      "2652\n",
      "EMPHYSEMA AREA :  5.278230631980293e-12\n"
     ]
    },
    {
     "name": "stderr",
     "output_type": "stream",
     "text": [
      "C:\\Users\\mip_aic\\anaconda3\\lib\\site-packages\\segmentation_models_pytorch\\base\\modules.py:116: UserWarning: Implicit dimension choice for softmax has been deprecated. Change the call to include dim=X as an argument.\n",
      "  return self.activation(x)\n"
     ]
    }
   ],
   "source": [
    "!python main.py"
   ]
  },
  {
   "cell_type": "code",
   "execution_count": null,
   "id": "42b2aa6b-3d55-4dbb-950e-ef2008490e90",
   "metadata": {},
   "outputs": [],
   "source": []
  }
 ],
 "metadata": {
  "kernelspec": {
   "display_name": "Python 3 (ipykernel)",
   "language": "python",
   "name": "python3"
  },
  "language_info": {
   "codemirror_mode": {
    "name": "ipython",
    "version": 3
   },
   "file_extension": ".py",
   "mimetype": "text/x-python",
   "name": "python",
   "nbconvert_exporter": "python",
   "pygments_lexer": "ipython3",
   "version": "3.8.5"
  }
 },
 "nbformat": 4,
 "nbformat_minor": 5
}
