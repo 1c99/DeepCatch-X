{
 "cells": [
  {
   "cell_type": "code",
   "execution_count": 9,
   "id": "b8648fd2-23b2-4d3b-ab4d-d0f765e780fd",
   "metadata": {},
   "outputs": [
    {
     "name": "stdout",
     "output_type": "stream",
     "text": [
      "(2816, 2816)\n",
      "A_ shape (512, 512)\n",
      "mean, std 1694.5308 837.08215\n",
      "normalized image min max -0.046658244 1.4751589\n",
      "normalized_a shape torch.Size([1, 1, 512, 512])\n",
      "pix2pixHD BaseModel initialize checkpoints\\xray2airwaynan.pth\n",
      "are you running ?\n",
      "loading model successful.\n",
      "0.825\n",
      "0.825\n",
      "area sum 3154\n",
      "area 21.4669125\n",
      "output saved.\n"
     ]
    }
   ],
   "source": [
    "!python inference_airway.py"
   ]
  },
  {
   "cell_type": "code",
   "execution_count": null,
   "id": "57e4cbff-8e9a-4f87-ac5f-cc532eb323b2",
   "metadata": {},
   "outputs": [],
   "source": []
  }
 ],
 "metadata": {
  "kernelspec": {
   "display_name": "Python 3 (ipykernel)",
   "language": "python",
   "name": "python3"
  },
  "language_info": {
   "codemirror_mode": {
    "name": "ipython",
    "version": 3
   },
   "file_extension": ".py",
   "mimetype": "text/x-python",
   "name": "python",
   "nbconvert_exporter": "python",
   "pygments_lexer": "ipython3",
   "version": "3.8.5"
  }
 },
 "nbformat": 4,
 "nbformat_minor": 5
}
