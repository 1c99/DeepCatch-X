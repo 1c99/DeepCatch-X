{
 "cells": [
  {
   "cell_type": "code",
   "execution_count": 8,
   "id": "7f82ddba-61d6-44f0-8144-59548cf3d3a7",
   "metadata": {},
   "outputs": [
    {
     "name": "stdout",
     "output_type": "stream",
     "text": [
      "pix2pixHD BaseModel initialize ./checkpoints/xray2lung.pth\n",
      "are you running ?\n",
      "area 339.4132073743744\n",
      "output saved.\n"
     ]
    }
   ],
   "source": [
    "!python inference_lung.py"
   ]
  },
  {
   "cell_type": "code",
   "execution_count": null,
   "id": "e24a1b53-a91d-4076-88ef-dc63a3a96b19",
   "metadata": {},
   "outputs": [],
   "source": []
  }
 ],
 "metadata": {
  "kernelspec": {
   "display_name": "Python 3 (ipykernel)",
   "language": "python",
   "name": "python3"
  },
  "language_info": {
   "codemirror_mode": {
    "name": "ipython",
    "version": 3
   },
   "file_extension": ".py",
   "mimetype": "text/x-python",
   "name": "python",
   "nbconvert_exporter": "python",
   "pygments_lexer": "ipython3",
   "version": "3.8.5"
  }
 },
 "nbformat": 4,
 "nbformat_minor": 5
}
