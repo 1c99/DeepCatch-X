{
 "cells": [
  {
   "cell_type": "code",
   "execution_count": 29,
   "id": "13db05cd-7a10-4da9-bf45-16a6eb83b797",
   "metadata": {},
   "outputs": [
    {
     "name": "stdout",
     "output_type": "stream",
     "text": [
      "./input\\AN_ID_20210526104509_1.dcm AN_ID_20210526104509_1.dcm_heart.png\n",
      "pix2pixHD BaseModel initialize ./checkpoints/xray2heart.pth\n",
      "are you running ?\n",
      "./output\\AN_ID_20210526104509_1.dcm.png saved\n",
      "104.93967922743161\n",
      "before predict() empty_cache()\n",
      "total_memory :12878086144\n",
      "memory_allocated :0\n",
      "after predict() empty_cache()\n",
      "total_memory :12878086144\n",
      "memory_allocated :0\n",
      "AN_ID_20210526104509_1.dcm: Heart Volume: 0.567427490234375L\n"
     ]
    },
    {
     "name": "stderr",
     "output_type": "stream",
     "text": [
      "E:\\dcx_python_inference\\regression\\heartregression\\inference_heart_volumetry.py:163: SyntaxWarning: \"is\" with a literal. Did you mean \"==\"?\n",
      "  if len(img.shape) is 3 and not isinstance(padColor, (list, tuple, np.ndarray)): # color image but only one color provided\n",
      "inference_heart_volumetry.py:163: SyntaxWarning: \"is\" with a literal. Did you mean \"==\"?\n",
      "  if len(img.shape) is 3 and not isinstance(padColor, (list, tuple, np.ndarray)): # color image but only one color provided\n"
     ]
    }
   ],
   "source": [
    "!python inference_heart_volumetry.py"
   ]
  },
  {
   "cell_type": "code",
   "execution_count": null,
   "id": "23cc44fd-00cc-4793-a47a-7e93e9ff0a40",
   "metadata": {},
   "outputs": [],
   "source": []
  }
 ],
 "metadata": {
  "kernelspec": {
   "display_name": "Python 3 (ipykernel)",
   "language": "python",
   "name": "python3"
  },
  "language_info": {
   "codemirror_mode": {
    "name": "ipython",
    "version": 3
   },
   "file_extension": ".py",
   "mimetype": "text/x-python",
   "name": "python",
   "nbconvert_exporter": "python",
   "pygments_lexer": "ipython3",
   "version": "3.8.5"
  }
 },
 "nbformat": 4,
 "nbformat_minor": 5
}
